{
 "cells": [
  {
   "cell_type": "code",
   "execution_count": 58,
   "metadata": {},
   "outputs": [
    {
     "ename": "ModuleNotFoundError",
     "evalue": "No module named 'django'",
     "output_type": "error",
     "traceback": [
      "\u001b[0;31m---------------------------------------------------------------------------\u001b[0m",
      "\u001b[0;31mModuleNotFoundError\u001b[0m                       Traceback (most recent call last)",
      "\u001b[0;32m<ipython-input-58-b7f163b3c012>\u001b[0m in \u001b[0;36m<module>\u001b[0;34m\u001b[0m\n\u001b[1;32m      5\u001b[0m \u001b[0;32mfrom\u001b[0m \u001b[0mdatetime\u001b[0m \u001b[0;32mimport\u001b[0m \u001b[0mdate\u001b[0m\u001b[0;34m\u001b[0m\u001b[0;34m\u001b[0m\u001b[0m\n\u001b[1;32m      6\u001b[0m \u001b[0;32mimport\u001b[0m \u001b[0mlocale\u001b[0m\u001b[0;34m\u001b[0m\u001b[0;34m\u001b[0m\u001b[0m\n\u001b[0;32m----> 7\u001b[0;31m \u001b[0;32mfrom\u001b[0m \u001b[0mdjango\u001b[0m\u001b[0;34m.\u001b[0m\u001b[0mutils\u001b[0m\u001b[0;34m.\u001b[0m\u001b[0mencoding\u001b[0m \u001b[0;32mimport\u001b[0m \u001b[0msmart_str\u001b[0m\u001b[0;31m#, smart_unicode\u001b[0m\u001b[0;34m\u001b[0m\u001b[0;34m\u001b[0m\u001b[0m\n\u001b[0m\u001b[1;32m      8\u001b[0m \u001b[0;34m\u001b[0m\u001b[0m\n\u001b[1;32m      9\u001b[0m \u001b[0mprint\u001b[0m\u001b[0;34m(\u001b[0m\u001b[0mlocale\u001b[0m\u001b[0;34m.\u001b[0m\u001b[0mgetlocale\u001b[0m\u001b[0;34m(\u001b[0m\u001b[0;34m)\u001b[0m\u001b[0;34m)\u001b[0m\u001b[0;34m\u001b[0m\u001b[0;34m\u001b[0m\u001b[0m\n",
      "\u001b[0;31mModuleNotFoundError\u001b[0m: No module named 'django'"
     ]
    }
   ],
   "source": [
    "from exporter import ScholarExporter\n",
    "import requests\n",
    "from bs4 import BeautifulSoup\n",
    "from urllib.parse import quote\n",
    "from datetime import date\n",
    "import locale\n",
    "from django.utils.encoding import smart_str#, smart_unicode\n",
    "\n",
    "print(locale.getlocale())\n",
    "if locale.getlocale()[0] is None:\n",
    "    locale.setlocale(locale.LC_ALL, 'en_US.UTF-8')\n",
    "    print(locale.getlocale())\n",
    "## adapted from: https://github.com/TWRogers"
   ]
  },
  {
   "cell_type": "code",
   "execution_count": 53,
   "metadata": {},
   "outputs": [],
   "source": [
    "main_url = \"https://scholar.google.com/citations?user=tlMCbgwAAAAJ&sortby=pubdate\"\n",
    "re = requests.get(main_url)\n",
    "parser = BeautifulSoup(re.text, \"html.parser\")                       \n",
    "                       \n",
    "scholar = parser.find('div', {'id': 'gsc_prf_in'}).text\n",
    "papers = parser.body.find_all('tr', attrs={'class': 'gsc_a_tr'})"
   ]
  },
  {
   "cell_type": "code",
   "execution_count": 54,
   "metadata": {},
   "outputs": [],
   "source": [
    "PAPER_TEMPLATE = \"\"\"\n",
    "<div class=\"card\">\n",
    "    <div class=\"card-publication\">\n",
    "        <div class=\"card-body card-body-left\">\n",
    "            <h4><a href=\"{url}\">{title}</a></h4>\n",
    "            <p style=\"font-style: italic;\">by {authors}</p>\n",
    "            <p><b>{journal}</b></p>\n",
    "        </div>\n",
    "    </div>\n",
    "    <div class=\"card-footer\">\n",
    "        <small class=\"text-muted\">Published in <b>{year}</b> | \n",
    "        <a href=\"{citations_url}\">Citations: <b>{n_citations}</b></a></small>\n",
    "    </div>\n",
    "</div>\n",
    "\"\"\""
   ]
  },
  {
   "cell_type": "code",
   "execution_count": 59,
   "metadata": {},
   "outputs": [
    {
     "ename": "NameError",
     "evalue": "name 'smart_str' is not defined",
     "output_type": "error",
     "traceback": [
      "\u001b[0;31m---------------------------------------------------------------------------\u001b[0m",
      "\u001b[0;31mNameError\u001b[0m                                 Traceback (most recent call last)",
      "\u001b[0;32m<ipython-input-59-6104c5d095f9>\u001b[0m in \u001b[0;36m<module>\u001b[0;34m\u001b[0m\n\u001b[1;32m     10\u001b[0m                               \u001b[0;34m'n_citations'\u001b[0m\u001b[0;34m:\u001b[0m \u001b[0mcitations_a\u001b[0m\u001b[0;34m.\u001b[0m\u001b[0mtext\u001b[0m\u001b[0;34m,\u001b[0m\u001b[0;34m\u001b[0m\u001b[0;34m\u001b[0m\u001b[0m\n\u001b[1;32m     11\u001b[0m                               \u001b[0;34m'citations_url'\u001b[0m\u001b[0;34m:\u001b[0m \u001b[0mcitations_a\u001b[0m\u001b[0;34m[\u001b[0m\u001b[0;34m'href'\u001b[0m\u001b[0;34m]\u001b[0m\u001b[0;34m,\u001b[0m\u001b[0;34m\u001b[0m\u001b[0;34m\u001b[0m\u001b[0m\n\u001b[0;32m---> 12\u001b[0;31m                               \u001b[0;34m'authors'\u001b[0m\u001b[0;34m:\u001b[0m \u001b[0msmart_str\u001b[0m\u001b[0;34m(\u001b[0m\u001b[0mpaper_soup\u001b[0m\u001b[0;34m.\u001b[0m\u001b[0mfind_all\u001b[0m\u001b[0;34m(\u001b[0m\u001b[0;34m'div'\u001b[0m\u001b[0;34m,\u001b[0m \u001b[0;34m{\u001b[0m\u001b[0;34m'class'\u001b[0m\u001b[0;34m:\u001b[0m \u001b[0;34m'gs_gray'\u001b[0m\u001b[0;34m}\u001b[0m\u001b[0;34m)\u001b[0m\u001b[0;34m[\u001b[0m\u001b[0;36m0\u001b[0m\u001b[0;34m]\u001b[0m\u001b[0;34m.\u001b[0m\u001b[0mtext\u001b[0m\u001b[0;34m)\u001b[0m\u001b[0;34m,\u001b[0m\u001b[0;34m\u001b[0m\u001b[0;34m\u001b[0m\u001b[0m\n\u001b[0m\u001b[1;32m     13\u001b[0m                               \u001b[0;34m'journal'\u001b[0m\u001b[0;34m:\u001b[0m \u001b[0mpaper_soup\u001b[0m\u001b[0;34m.\u001b[0m\u001b[0mfind_all\u001b[0m\u001b[0;34m(\u001b[0m\u001b[0;34m'div'\u001b[0m\u001b[0;34m,\u001b[0m \u001b[0;34m{\u001b[0m\u001b[0;34m'class'\u001b[0m\u001b[0;34m:\u001b[0m \u001b[0;34m'gs_gray'\u001b[0m\u001b[0;34m}\u001b[0m\u001b[0;34m)\u001b[0m\u001b[0;34m[\u001b[0m\u001b[0;36m1\u001b[0m\u001b[0;34m]\u001b[0m\u001b[0;34m.\u001b[0m\u001b[0mtext\u001b[0m\u001b[0;34m,\u001b[0m\u001b[0;34m\u001b[0m\u001b[0;34m\u001b[0m\u001b[0m\n\u001b[1;32m     14\u001b[0m                               'url': \"https://scholar.google.com/\" + paper_soup.find('a')['href'][1:]}\n",
      "\u001b[0;31mNameError\u001b[0m: name 'smart_str' is not defined"
     ]
    }
   ],
   "source": [
    "parsed_papers = []\n",
    "for paper in papers:\n",
    "            paper_soup = BeautifulSoup(str(paper), features=\"html.parser\")\n",
    "            try:\n",
    "                citations_a = paper_soup.find('a', {'class': 'gsc_a_ac gs_ibl'})\n",
    "                if citations_a is None:\n",
    "                    citations_a = paper_soup.find('a', {'class': 'gsc_a_ac gs_ibl gsc_a_acm'})\n",
    "                this_paper = {'title': paper_soup.find('a').text,\n",
    "                              'year': paper_soup.find_all('span')[-1].text,\n",
    "                              'n_citations': citations_a.text,\n",
    "                              'citations_url': citations_a['href'],\n",
    "                              'authors': smart_str(paper_soup.find_all('div', {'class': 'gs_gray'})[0].text),\n",
    "                              'journal': paper_soup.find_all('div', {'class': 'gs_gray'})[1].text,\n",
    "                              'url': \"https://scholar.google.com/\" + paper_soup.find('a')['href'][1:]}\n",
    "\n",
    "                if not this_paper['n_citations']:\n",
    "                    print(\"no citations\")\n",
    "                    this_paper['n_citations'] = \"0\"\n",
    "                \n",
    "                if this_paper['journal'].endswith(', ' + this_paper['year']):\n",
    "                    this_paper['journal'] = this_paper['journal'][:-len(', ' + this_paper['year'])]\n",
    "                parsed_papers.append(this_paper)\n",
    "            except KeyError:\n",
    "                print('Warning: error parsing paper (key error).')\n",
    "            except IndexError:\n",
    "                print('Warning: error parsing paper.')\n",
    "            except AttributeError:\n",
    "                print('Warning: error parsing paper.')"
   ]
  },
  {
   "cell_type": "code",
   "execution_count": 56,
   "metadata": {},
   "outputs": [],
   "source": [
    "file = open(\"index.html\",\"w\")\n",
    "total=len(parsed_papers)\n",
    "dateday= date.today().isoformat()\n",
    "INTRO_TEXT = \"\"\"\n",
    "<p>Publications (<b>\"\"\"+ str(total)+\"\"\"</b>) last scraped on <b> \"\"\" + dateday + \"\"\"</b> \n",
    "using <a href=\"https://github.com/TWRogers/google-scholar-export\">google-scholar-export</a>.</p>\n",
    "\"\"\"\n",
    "file.write(INTRO_TEXT)\n",
    "for paper in parsed_papers:\n",
    "              file.write(PAPER_TEMPLATE.format(**paper))\n",
    "file.close()"
   ]
  },
  {
   "cell_type": "code",
   "execution_count": 57,
   "metadata": {},
   "outputs": [],
   "source": [
    "#s = ScholarExporter.from_user('tlMCbgwAAAAJ')  # Geoffrey Hinton user\n",
    "#t = s.export('index.html')"
   ]
  },
  {
   "cell_type": "code",
   "execution_count": null,
   "metadata": {},
   "outputs": [],
   "source": []
  },
  {
   "cell_type": "code",
   "execution_count": null,
   "metadata": {},
   "outputs": [],
   "source": []
  }
 ],
 "metadata": {
  "kernelspec": {
   "display_name": "Python 3",
   "language": "python",
   "name": "python3"
  },
  "language_info": {
   "codemirror_mode": {
    "name": "ipython",
    "version": 3
   },
   "file_extension": ".py",
   "mimetype": "text/x-python",
   "name": "python",
   "nbconvert_exporter": "python",
   "pygments_lexer": "ipython3",
   "version": "3.7.10"
  }
 },
 "nbformat": 4,
 "nbformat_minor": 2
}
