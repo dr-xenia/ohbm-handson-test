{
 "cells": [
  {
   "cell_type": "code",
   "execution_count": 56,
   "metadata": {},
   "outputs": [
    {
     "name": "stdout",
     "output_type": "stream",
     "text": [
      "('en_US', 'UTF-8')\n"
     ]
    }
   ],
   "source": [
    "from exporter import ScholarExporter\n",
    "import requests\n",
    "from bs4 import BeautifulSoup\n",
    "from bs4 import UnicodeDammit\n",
    "from urllib.parse import quote\n",
    "from datetime import date\n",
    "import locale\n",
    "from django.utils.encoding import smart_str#, smart_unicode\n",
    "\n",
    "print(locale.getlocale())\n",
    "if locale.getlocale()[0] is None:\n",
    "    locale.setlocale(locale.LC_ALL, 'en_US.UTF-8')\n",
    "    print(locale.getlocale())\n",
    "## adapted from: https://github.com/TWRogers"
   ]
  },
  {
   "cell_type": "code",
   "execution_count": 99,
   "metadata": {},
   "outputs": [],
   "source": [
    "main_url = \"https://scholar.google.com/citations?user=tlMCbgwAAAAJ&sortby=pubdate\"\n",
    "re = requests.get(main_url)\n",
    "#encoding = re.encoding if 'charset' in re.headers.get('content-type', '').lower() else None\n",
    "parser = BeautifulSoup(re.content)#, \"html.parser\")                       \n",
    "                       \n",
    "scholar = parser.find('div', {'id': 'gsc_prf_in'}).encode(\"utf-8\")#.text\n",
    "papers = parser.body.find_all('tr', attrs={'class': 'gsc_a_tr'})\n",
    "\n",
    "#parser.encode(\n",
    "\n",
    "#escaper = BeautifulSoup.dammit.EntitySubstitution()\n",
    "#escaped = escaper.substitute_html(parser)"
   ]
  },
  {
   "cell_type": "code",
   "execution_count": 107,
   "metadata": {},
   "outputs": [],
   "source": [
    "PAPER_TEMPLATE = \"\"\"\n",
    "<div class=\"card\">\n",
    "  <div class=\"card-publication\">\n",
    "    <div class=\"card-body card-body-left\">\n",
    "      <p><a href=\"{url}\">{title}</a></p>\n",
    "      <p class=\"tab\" style=\"font-style: italic;\">by {authors}</p>\n",
    "      <p class=\"tab\"><b>{journal}</b></p>\n",
    "    </div>\n",
    "  </div>\n",
    "  <div class=\"card-footer\">\n",
    "    <small class=\"tab\">Published in <b>{year}</b>\n",
    "  </small>\n",
    "    </div>\n",
    "</div>\n",
    "\"\"\"\n",
    "\n",
    "INTRO_TEXT = \"\"\"\n",
    "<div class=\"container\">\n",
    "  <div class=\"row clearfix layout layout-top-middle\">\n",
    "   <div class=\"col-xs-12 col-print-12\">\n",
    "    <a id=\"publications\"></a> \n",
    "    <h3>Publications</h3>  \n",
    "<p>Publications (<b>\"\"\"+ str(total)+\"\"\"</b>) last scraped on <b> \"\"\" + dateday + \"\"\"</b> \n",
    "using <a href=\"https://github.com/TWRogers/google-scholar-export\">google-scholar-export</a>.</p>\n",
    "\"\"\""
   ]
  },
  {
   "cell_type": "code",
   "execution_count": 108,
   "metadata": {},
   "outputs": [
    {
     "name": "stdout",
     "output_type": "stream",
     "text": [
      "R Gau, S Noble, K Heuer, KL Bottenhorn, IP Bilgin, YF Yang, ...\n",
      "X Kobeleva, G Varoquaux, A Dagher, M Adhikari, C Grefkes, M Gilson\n",
      "no citations\n",
      "E Levitis, CG van Praag, R Gau, S Heunis, E DuPre, G Kiar, K Bottenhorn, ...\n",
      "no citations\n",
      "X Kobeleva, J Machts, M Veit, S Vielhaber, S Petri, MA Schoenfeld\n",
      "no citations\n",
      "T Fu, X Kobeleva, P Bronzlik, P Nösel, M Dadak, H Lanfermann, S Petri, ...\n",
      "no citations\n",
      "L Sannemann, AK Schild, S Altenstein, C Bartels, F Brosseron, K Buerger, ...\n",
      "S Wolfsgruber, L Kleineidam, J Guski, A Polcher, I Frommann, S Roeske, ...\n",
      "RA Husain, M Grimmel, M Wagner, JC Hennings, C Marx, RG Feichtinger, ...\n",
      "X Kobeleva, A López-González, M Kringelbach, G Deco\n",
      "no citations\n",
      "MAF Fard, AP Rebelo, E Buglo, H Nemati, H Dastsooz, I Gehweiler, ...\n",
      "AC Ludolph, J Schuster, J Dorst, L Dupuis, J Dreyhaupt, JH Weishaupt, ...\n",
      "HJ Westeneng, TPA Debray, AE Visser, RPA van Eijk, JPK Rooney, ...\n",
      "LR Peraza, R Cromarty, X Kobeleva, MJ Firbank, A Killen, S Graziadio, ...\n",
      "X Kobeleva, M Firbank, L Peraza, P Gallagher, A Thomas, DJ Burn, ...\n",
      "V Meininger, A Genge, LH van den Berg, W Robberecht, A Ludolph, ...\n",
      "AK Vellage, M Veit, X Kobeleva, S Petri, S Vielhaber, NG Müller\n",
      "M Firbank, X Kobeleva, G Cherry, A Killen, P Gallagher, DJ Burn, ...\n",
      "A Funke, T Grehl, J Großkreutz, C Münch, B Walter, D Kettemann, ...\n",
      "A Macerollo, K Róna-Vörös, W Struhal, X Kobeleva, J Sellner\n",
      "X Kobeleva, F Wegner, I Brunotte, M Dadak, R Dengler, M Stangel\n"
     ]
    }
   ],
   "source": [
    "parsed_papers = []\n",
    "for paper in papers:\n",
    "            #paper = paper.encode(\"utf-8\")\n",
    "            paper_soup = BeautifulSoup(str(paper))#, features=\"html.parser\")\n",
    "            print(paper_soup.find_all('div', {'class': 'gs_gray'})[0].text)\n",
    "            try:\n",
    "                citations_a = paper_soup.find('a', {'class': 'gsc_a_ac gs_ibl'})\n",
    "                if citations_a is None:\n",
    "                    citations_a = paper_soup.find('a', {'class': 'gsc_a_ac gs_ibl gsc_a_acm'})\n",
    "                this_paper = {'title': paper_soup.find('a').text,\n",
    "                              'year': paper_soup.find_all('span')[-1].text,\n",
    "                              'n_citations': citations_a.text,\n",
    "                              'citations_url': citations_a['href'],\n",
    "                              'authors': paper_soup.find_all('div', {'class': 'gs_gray'})[0].text,\n",
    "                              'journal': paper_soup.find_all('div', {'class': 'gs_gray'})[1].text,\n",
    "                              'url': \"https://scholar.google.com/\" + paper_soup.find('a')['href'][1:]}\n",
    "\n",
    "                if not this_paper['n_citations']:\n",
    "                    print(\"no citations\")\n",
    "                    this_paper['n_citations'] = \"0\"\n",
    "                \n",
    "                if this_paper['journal'].endswith(', ' + this_paper['year']):\n",
    "                    this_paper['journal'] = this_paper['journal'][:-len(', ' + this_paper['year'])]\n",
    "                parsed_papers.append(this_paper)\n",
    "            except KeyError:\n",
    "                print('Warning: error parsing paper (key error).')\n",
    "            except IndexError:\n",
    "                print('Warning: error parsing paper.')\n",
    "            except AttributeError:\n",
    "                print('Warning: error parsing paper.')"
   ]
  },
  {
   "cell_type": "code",
   "execution_count": 109,
   "metadata": {},
   "outputs": [],
   "source": [
    "file = open(\"index.html\",\"w\")\n",
    "parsed_papers_ascii = parsed_papers\n",
    "total=len(parsed_papers)\n",
    "dateday= date.today().isoformat()\n",
    "\n",
    "file.write(INTRO_TEXT)\n",
    "for paper in parsed_papers:\n",
    "              file.write(PAPER_TEMPLATE.format(**paper))\n",
    "file.close()"
   ]
  },
  {
   "cell_type": "code",
   "execution_count": 106,
   "metadata": {},
   "outputs": [],
   "source": [
    "#s = ScholarExporter.from_user('tlMCbgwAAAAJ')  # Geoffrey Hinton user\n",
    "#t = s.export('index.html')"
   ]
  },
  {
   "cell_type": "code",
   "execution_count": null,
   "metadata": {},
   "outputs": [],
   "source": []
  }
 ],
 "metadata": {
  "kernelspec": {
   "display_name": "Python 3",
   "language": "python",
   "name": "python3"
  },
  "language_info": {
   "codemirror_mode": {
    "name": "ipython",
    "version": 3
   },
   "file_extension": ".py",
   "mimetype": "text/x-python",
   "name": "python",
   "nbconvert_exporter": "python",
   "pygments_lexer": "ipython3",
   "version": "3.7.10"
  }
 },
 "nbformat": 4,
 "nbformat_minor": 2
}
